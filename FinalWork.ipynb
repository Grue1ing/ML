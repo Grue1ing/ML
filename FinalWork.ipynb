{
 "cells": [
  {
   "cell_type": "code",
   "execution_count": 1,
   "metadata": {
    "collapsed": false
   },
   "outputs": [],
   "source": [
    "import numpy as np\n",
    "import pandas as pd\n",
    "from sklearn.ensemble import GradientBoostingClassifier\n",
    "from sklearn.model_selection import cross_val_score\n",
    "from sklearn.model_selection import KFold\n",
    "from sklearn.model_selection import GridSearchCV\n",
    "from sklearn.metrics import roc_auc_score\n",
    "import time\n",
    "import datetime"
   ]
  },
  {
   "cell_type": "code",
   "execution_count": 2,
   "metadata": {
    "collapsed": false
   },
   "outputs": [
    {
     "data": {
      "text/html": [
       "<div>\n",
       "<table border=\"1\" class=\"dataframe\">\n",
       "  <thead>\n",
       "    <tr style=\"text-align: right;\">\n",
       "      <th></th>\n",
       "      <th>start_time</th>\n",
       "      <th>lobby_type</th>\n",
       "      <th>r1_hero</th>\n",
       "      <th>r1_level</th>\n",
       "      <th>r1_xp</th>\n",
       "      <th>r1_gold</th>\n",
       "      <th>r1_lh</th>\n",
       "      <th>r1_kills</th>\n",
       "      <th>r1_deaths</th>\n",
       "      <th>r1_items</th>\n",
       "      <th>...</th>\n",
       "      <th>dire_boots_count</th>\n",
       "      <th>dire_ward_observer_count</th>\n",
       "      <th>dire_ward_sentry_count</th>\n",
       "      <th>dire_first_ward_time</th>\n",
       "      <th>duration</th>\n",
       "      <th>radiant_win</th>\n",
       "      <th>tower_status_radiant</th>\n",
       "      <th>tower_status_dire</th>\n",
       "      <th>barracks_status_radiant</th>\n",
       "      <th>barracks_status_dire</th>\n",
       "    </tr>\n",
       "    <tr>\n",
       "      <th>match_id</th>\n",
       "      <th></th>\n",
       "      <th></th>\n",
       "      <th></th>\n",
       "      <th></th>\n",
       "      <th></th>\n",
       "      <th></th>\n",
       "      <th></th>\n",
       "      <th></th>\n",
       "      <th></th>\n",
       "      <th></th>\n",
       "      <th></th>\n",
       "      <th></th>\n",
       "      <th></th>\n",
       "      <th></th>\n",
       "      <th></th>\n",
       "      <th></th>\n",
       "      <th></th>\n",
       "      <th></th>\n",
       "      <th></th>\n",
       "      <th></th>\n",
       "      <th></th>\n",
       "    </tr>\n",
       "  </thead>\n",
       "  <tbody>\n",
       "    <tr>\n",
       "      <th>0</th>\n",
       "      <td>1430198770</td>\n",
       "      <td>7</td>\n",
       "      <td>11</td>\n",
       "      <td>5</td>\n",
       "      <td>2098</td>\n",
       "      <td>1489</td>\n",
       "      <td>20</td>\n",
       "      <td>0</td>\n",
       "      <td>0</td>\n",
       "      <td>7</td>\n",
       "      <td>...</td>\n",
       "      <td>4</td>\n",
       "      <td>2</td>\n",
       "      <td>2</td>\n",
       "      <td>-52.0</td>\n",
       "      <td>2874</td>\n",
       "      <td>1</td>\n",
       "      <td>1796</td>\n",
       "      <td>0</td>\n",
       "      <td>51</td>\n",
       "      <td>0</td>\n",
       "    </tr>\n",
       "    <tr>\n",
       "      <th>1</th>\n",
       "      <td>1430220345</td>\n",
       "      <td>0</td>\n",
       "      <td>42</td>\n",
       "      <td>4</td>\n",
       "      <td>1188</td>\n",
       "      <td>1033</td>\n",
       "      <td>9</td>\n",
       "      <td>0</td>\n",
       "      <td>1</td>\n",
       "      <td>12</td>\n",
       "      <td>...</td>\n",
       "      <td>4</td>\n",
       "      <td>3</td>\n",
       "      <td>1</td>\n",
       "      <td>-5.0</td>\n",
       "      <td>2463</td>\n",
       "      <td>1</td>\n",
       "      <td>1974</td>\n",
       "      <td>0</td>\n",
       "      <td>63</td>\n",
       "      <td>1</td>\n",
       "    </tr>\n",
       "    <tr>\n",
       "      <th>2</th>\n",
       "      <td>1430227081</td>\n",
       "      <td>7</td>\n",
       "      <td>33</td>\n",
       "      <td>4</td>\n",
       "      <td>1319</td>\n",
       "      <td>1270</td>\n",
       "      <td>22</td>\n",
       "      <td>0</td>\n",
       "      <td>0</td>\n",
       "      <td>12</td>\n",
       "      <td>...</td>\n",
       "      <td>4</td>\n",
       "      <td>3</td>\n",
       "      <td>1</td>\n",
       "      <td>13.0</td>\n",
       "      <td>2130</td>\n",
       "      <td>0</td>\n",
       "      <td>0</td>\n",
       "      <td>1830</td>\n",
       "      <td>0</td>\n",
       "      <td>63</td>\n",
       "    </tr>\n",
       "    <tr>\n",
       "      <th>3</th>\n",
       "      <td>1430263531</td>\n",
       "      <td>1</td>\n",
       "      <td>29</td>\n",
       "      <td>4</td>\n",
       "      <td>1779</td>\n",
       "      <td>1056</td>\n",
       "      <td>14</td>\n",
       "      <td>0</td>\n",
       "      <td>0</td>\n",
       "      <td>5</td>\n",
       "      <td>...</td>\n",
       "      <td>4</td>\n",
       "      <td>2</td>\n",
       "      <td>0</td>\n",
       "      <td>27.0</td>\n",
       "      <td>1459</td>\n",
       "      <td>0</td>\n",
       "      <td>1920</td>\n",
       "      <td>2047</td>\n",
       "      <td>50</td>\n",
       "      <td>63</td>\n",
       "    </tr>\n",
       "    <tr>\n",
       "      <th>4</th>\n",
       "      <td>1430282290</td>\n",
       "      <td>7</td>\n",
       "      <td>13</td>\n",
       "      <td>4</td>\n",
       "      <td>1431</td>\n",
       "      <td>1090</td>\n",
       "      <td>8</td>\n",
       "      <td>1</td>\n",
       "      <td>0</td>\n",
       "      <td>8</td>\n",
       "      <td>...</td>\n",
       "      <td>3</td>\n",
       "      <td>3</td>\n",
       "      <td>0</td>\n",
       "      <td>-16.0</td>\n",
       "      <td>2449</td>\n",
       "      <td>0</td>\n",
       "      <td>4</td>\n",
       "      <td>1974</td>\n",
       "      <td>3</td>\n",
       "      <td>63</td>\n",
       "    </tr>\n",
       "  </tbody>\n",
       "</table>\n",
       "<p>5 rows × 108 columns</p>\n",
       "</div>"
      ],
      "text/plain": [
       "          start_time  lobby_type  r1_hero  r1_level  r1_xp  r1_gold  r1_lh  \\\n",
       "match_id                                                                     \n",
       "0         1430198770           7       11         5   2098     1489     20   \n",
       "1         1430220345           0       42         4   1188     1033      9   \n",
       "2         1430227081           7       33         4   1319     1270     22   \n",
       "3         1430263531           1       29         4   1779     1056     14   \n",
       "4         1430282290           7       13         4   1431     1090      8   \n",
       "\n",
       "          r1_kills  r1_deaths  r1_items          ...           \\\n",
       "match_id                                         ...            \n",
       "0                0          0         7          ...            \n",
       "1                0          1        12          ...            \n",
       "2                0          0        12          ...            \n",
       "3                0          0         5          ...            \n",
       "4                1          0         8          ...            \n",
       "\n",
       "          dire_boots_count  dire_ward_observer_count  dire_ward_sentry_count  \\\n",
       "match_id                                                                       \n",
       "0                        4                         2                       2   \n",
       "1                        4                         3                       1   \n",
       "2                        4                         3                       1   \n",
       "3                        4                         2                       0   \n",
       "4                        3                         3                       0   \n",
       "\n",
       "          dire_first_ward_time  duration  radiant_win  tower_status_radiant  \\\n",
       "match_id                                                                      \n",
       "0                        -52.0      2874            1                  1796   \n",
       "1                         -5.0      2463            1                  1974   \n",
       "2                         13.0      2130            0                     0   \n",
       "3                         27.0      1459            0                  1920   \n",
       "4                        -16.0      2449            0                     4   \n",
       "\n",
       "          tower_status_dire  barracks_status_radiant  barracks_status_dire  \n",
       "match_id                                                                    \n",
       "0                         0                       51                     0  \n",
       "1                         0                       63                     1  \n",
       "2                      1830                        0                    63  \n",
       "3                      2047                       50                    63  \n",
       "4                      1974                        3                    63  \n",
       "\n",
       "[5 rows x 108 columns]"
      ]
     },
     "execution_count": 2,
     "metadata": {},
     "output_type": "execute_result"
    }
   ],
   "source": [
    "Location = r'C:\\Users\\Grueling\\Downloads\\coursera\\features.csv'\n",
    "features = pd.read_csv(Location, index_col='match_id')\n",
    "\n",
    "features.head()"
   ]
  },
  {
   "cell_type": "code",
   "execution_count": 3,
   "metadata": {
    "collapsed": false
   },
   "outputs": [
    {
     "data": {
      "text/html": [
       "<div>\n",
       "<table border=\"1\" class=\"dataframe\">\n",
       "  <thead>\n",
       "    <tr style=\"text-align: right;\">\n",
       "      <th></th>\n",
       "      <th>start_time</th>\n",
       "      <th>lobby_type</th>\n",
       "      <th>r1_hero</th>\n",
       "      <th>r1_level</th>\n",
       "      <th>r1_xp</th>\n",
       "      <th>r1_gold</th>\n",
       "      <th>r1_lh</th>\n",
       "      <th>r1_kills</th>\n",
       "      <th>r1_deaths</th>\n",
       "      <th>r1_items</th>\n",
       "      <th>...</th>\n",
       "      <th>radiant_ward_sentry_count</th>\n",
       "      <th>radiant_first_ward_time</th>\n",
       "      <th>dire_bottle_time</th>\n",
       "      <th>dire_courier_time</th>\n",
       "      <th>dire_flying_courier_time</th>\n",
       "      <th>dire_tpscroll_count</th>\n",
       "      <th>dire_boots_count</th>\n",
       "      <th>dire_ward_observer_count</th>\n",
       "      <th>dire_ward_sentry_count</th>\n",
       "      <th>dire_first_ward_time</th>\n",
       "    </tr>\n",
       "    <tr>\n",
       "      <th>match_id</th>\n",
       "      <th></th>\n",
       "      <th></th>\n",
       "      <th></th>\n",
       "      <th></th>\n",
       "      <th></th>\n",
       "      <th></th>\n",
       "      <th></th>\n",
       "      <th></th>\n",
       "      <th></th>\n",
       "      <th></th>\n",
       "      <th></th>\n",
       "      <th></th>\n",
       "      <th></th>\n",
       "      <th></th>\n",
       "      <th></th>\n",
       "      <th></th>\n",
       "      <th></th>\n",
       "      <th></th>\n",
       "      <th></th>\n",
       "      <th></th>\n",
       "      <th></th>\n",
       "    </tr>\n",
       "  </thead>\n",
       "  <tbody>\n",
       "    <tr>\n",
       "      <th>6</th>\n",
       "      <td>1430287923</td>\n",
       "      <td>0</td>\n",
       "      <td>93</td>\n",
       "      <td>4</td>\n",
       "      <td>1103</td>\n",
       "      <td>1089</td>\n",
       "      <td>8</td>\n",
       "      <td>0</td>\n",
       "      <td>1</td>\n",
       "      <td>9</td>\n",
       "      <td>...</td>\n",
       "      <td>0</td>\n",
       "      <td>12.0</td>\n",
       "      <td>247.0</td>\n",
       "      <td>-86.0</td>\n",
       "      <td>272.0</td>\n",
       "      <td>3</td>\n",
       "      <td>4</td>\n",
       "      <td>2</td>\n",
       "      <td>0</td>\n",
       "      <td>118.0</td>\n",
       "    </tr>\n",
       "    <tr>\n",
       "      <th>7</th>\n",
       "      <td>1430293357</td>\n",
       "      <td>1</td>\n",
       "      <td>20</td>\n",
       "      <td>2</td>\n",
       "      <td>556</td>\n",
       "      <td>570</td>\n",
       "      <td>1</td>\n",
       "      <td>0</td>\n",
       "      <td>0</td>\n",
       "      <td>9</td>\n",
       "      <td>...</td>\n",
       "      <td>2</td>\n",
       "      <td>-29.0</td>\n",
       "      <td>168.0</td>\n",
       "      <td>-54.0</td>\n",
       "      <td>NaN</td>\n",
       "      <td>3</td>\n",
       "      <td>2</td>\n",
       "      <td>2</td>\n",
       "      <td>1</td>\n",
       "      <td>16.0</td>\n",
       "    </tr>\n",
       "    <tr>\n",
       "      <th>10</th>\n",
       "      <td>1430301774</td>\n",
       "      <td>1</td>\n",
       "      <td>112</td>\n",
       "      <td>2</td>\n",
       "      <td>751</td>\n",
       "      <td>808</td>\n",
       "      <td>1</td>\n",
       "      <td>0</td>\n",
       "      <td>0</td>\n",
       "      <td>13</td>\n",
       "      <td>...</td>\n",
       "      <td>1</td>\n",
       "      <td>-22.0</td>\n",
       "      <td>46.0</td>\n",
       "      <td>-87.0</td>\n",
       "      <td>186.0</td>\n",
       "      <td>1</td>\n",
       "      <td>3</td>\n",
       "      <td>3</td>\n",
       "      <td>0</td>\n",
       "      <td>-34.0</td>\n",
       "    </tr>\n",
       "    <tr>\n",
       "      <th>13</th>\n",
       "      <td>1430323933</td>\n",
       "      <td>1</td>\n",
       "      <td>27</td>\n",
       "      <td>3</td>\n",
       "      <td>708</td>\n",
       "      <td>903</td>\n",
       "      <td>1</td>\n",
       "      <td>1</td>\n",
       "      <td>1</td>\n",
       "      <td>11</td>\n",
       "      <td>...</td>\n",
       "      <td>2</td>\n",
       "      <td>-49.0</td>\n",
       "      <td>30.0</td>\n",
       "      <td>-89.0</td>\n",
       "      <td>210.0</td>\n",
       "      <td>3</td>\n",
       "      <td>4</td>\n",
       "      <td>2</td>\n",
       "      <td>1</td>\n",
       "      <td>-26.0</td>\n",
       "    </tr>\n",
       "    <tr>\n",
       "      <th>16</th>\n",
       "      <td>1430331112</td>\n",
       "      <td>1</td>\n",
       "      <td>39</td>\n",
       "      <td>4</td>\n",
       "      <td>1259</td>\n",
       "      <td>661</td>\n",
       "      <td>4</td>\n",
       "      <td>0</td>\n",
       "      <td>0</td>\n",
       "      <td>9</td>\n",
       "      <td>...</td>\n",
       "      <td>0</td>\n",
       "      <td>36.0</td>\n",
       "      <td>180.0</td>\n",
       "      <td>-86.0</td>\n",
       "      <td>180.0</td>\n",
       "      <td>1</td>\n",
       "      <td>3</td>\n",
       "      <td>2</td>\n",
       "      <td>1</td>\n",
       "      <td>-33.0</td>\n",
       "    </tr>\n",
       "  </tbody>\n",
       "</table>\n",
       "<p>5 rows × 102 columns</p>\n",
       "</div>"
      ],
      "text/plain": [
       "          start_time  lobby_type  r1_hero  r1_level  r1_xp  r1_gold  r1_lh  \\\n",
       "match_id                                                                     \n",
       "6         1430287923           0       93         4   1103     1089      8   \n",
       "7         1430293357           1       20         2    556      570      1   \n",
       "10        1430301774           1      112         2    751      808      1   \n",
       "13        1430323933           1       27         3    708      903      1   \n",
       "16        1430331112           1       39         4   1259      661      4   \n",
       "\n",
       "          r1_kills  r1_deaths  r1_items          ...           \\\n",
       "match_id                                         ...            \n",
       "6                0          1         9          ...            \n",
       "7                0          0         9          ...            \n",
       "10               0          0        13          ...            \n",
       "13               1          1        11          ...            \n",
       "16               0          0         9          ...            \n",
       "\n",
       "          radiant_ward_sentry_count  radiant_first_ward_time  \\\n",
       "match_id                                                       \n",
       "6                                 0                     12.0   \n",
       "7                                 2                    -29.0   \n",
       "10                                1                    -22.0   \n",
       "13                                2                    -49.0   \n",
       "16                                0                     36.0   \n",
       "\n",
       "          dire_bottle_time  dire_courier_time  dire_flying_courier_time  \\\n",
       "match_id                                                                  \n",
       "6                    247.0              -86.0                     272.0   \n",
       "7                    168.0              -54.0                       NaN   \n",
       "10                    46.0              -87.0                     186.0   \n",
       "13                    30.0              -89.0                     210.0   \n",
       "16                   180.0              -86.0                     180.0   \n",
       "\n",
       "          dire_tpscroll_count  dire_boots_count  dire_ward_observer_count  \\\n",
       "match_id                                                                    \n",
       "6                           3                 4                         2   \n",
       "7                           3                 2                         2   \n",
       "10                          1                 3                         3   \n",
       "13                          3                 4                         2   \n",
       "16                          1                 3                         2   \n",
       "\n",
       "          dire_ward_sentry_count  dire_first_ward_time  \n",
       "match_id                                                \n",
       "6                              0                 118.0  \n",
       "7                              1                  16.0  \n",
       "10                             0                 -34.0  \n",
       "13                             1                 -26.0  \n",
       "16                             1                 -33.0  \n",
       "\n",
       "[5 rows x 102 columns]"
      ]
     },
     "execution_count": 3,
     "metadata": {},
     "output_type": "execute_result"
    }
   ],
   "source": [
    "Location_test = r'C:\\Users\\Grueling\\Downloads\\coursera\\features_test.csv'\n",
    "features_test = pd.read_csv(Location_test, index_col='match_id')\n",
    "\n",
    "features_test.head()"
   ]
  },
  {
   "cell_type": "code",
   "execution_count": 4,
   "metadata": {
    "collapsed": true
   },
   "outputs": [],
   "source": [
    "#Градиентный бустинг"
   ]
  },
  {
   "cell_type": "code",
   "execution_count": 5,
   "metadata": {
    "collapsed": false
   },
   "outputs": [
    {
     "name": "stdout",
     "output_type": "stream",
     "text": [
      "duration\n",
      "radiant_win\n",
      "tower_status_radiant\n",
      "tower_status_dire\n",
      "barracks_status_radiant\n",
      "barracks_status_dire\n"
     ]
    }
   ],
   "source": [
    "#Определение столбцов которых нет в тестовой выборке\n",
    "F = {features_test.columns[a]: a for a in range(102)}\n",
    "for i in features.columns:\n",
    "    if F.get(i) == None:\n",
    "        print(i)"
   ]
  },
  {
   "cell_type": "code",
   "execution_count": 6,
   "metadata": {
    "collapsed": true
   },
   "outputs": [],
   "source": [
    "#Запись целевой переменной\n",
    "y = features['radiant_win']"
   ]
  },
  {
   "cell_type": "code",
   "execution_count": 7,
   "metadata": {
    "collapsed": true
   },
   "outputs": [],
   "source": [
    "#Удаление столбцов отсутсвующих в тестовой выборке\n",
    "del features['duration']\n",
    "del features['radiant_win']\n",
    "del features['tower_status_radiant']\n",
    "del features['tower_status_dire']\n",
    "del features['barracks_status_radiant']\n",
    "del features['barracks_status_dire']"
   ]
  },
  {
   "cell_type": "code",
   "execution_count": 8,
   "metadata": {
    "collapsed": false
   },
   "outputs": [
    {
     "name": "stdout",
     "output_type": "stream",
     "text": [
      "first_blood_time 19553\n",
      "first_blood_team 19553\n",
      "first_blood_player1 19553\n",
      "first_blood_player2 43987\n",
      "radiant_bottle_time 15691\n",
      "radiant_courier_time 692\n",
      "radiant_flying_courier_time 27479\n",
      "radiant_first_ward_time 1836\n",
      "dire_bottle_time 16143\n",
      "dire_courier_time 676\n",
      "dire_flying_courier_time 26098\n",
      "dire_first_ward_time 1826\n"
     ]
    }
   ],
   "source": [
    "#Определение столбцов с пропусками и количество пропусков\n",
    "for i in features.columns:\n",
    "    if features[i].count() < 97230:\n",
    "        print(i, 97230 - features[i].count())"
   ]
  },
  {
   "cell_type": "code",
   "execution_count": 9,
   "metadata": {
    "collapsed": true
   },
   "outputs": [],
   "source": [
    "# first_blood_time и first_blood_team пропуски возможны по причине того, что\n",
    "# в 19553 матчах не было за 5 минут first_blood, а наступил несколько позднее"
   ]
  },
  {
   "cell_type": "code",
   "execution_count": 10,
   "metadata": {
    "collapsed": false
   },
   "outputs": [],
   "source": [
    "#Заполнение пропусков нулями\n",
    "features = features.fillna(0)"
   ]
  },
  {
   "cell_type": "code",
   "execution_count": 11,
   "metadata": {
    "collapsed": false
   },
   "outputs": [],
   "source": [
    "cv = KFold(5, shuffle=True, random_state=241)"
   ]
  },
  {
   "cell_type": "code",
   "execution_count": 12,
   "metadata": {
    "collapsed": false
   },
   "outputs": [
    {
     "name": "stdout",
     "output_type": "stream",
     "text": [
      "      Iter       Train Loss   Remaining Time \n",
      "         1           1.3786           31.52s\n",
      "         2           1.3729           28.19s\n",
      "         3           1.3680           24.98s\n",
      "         4           1.3636           21.15s\n",
      "         5           1.3592           17.57s\n",
      "         6           1.3546           13.89s\n",
      "         7           1.3502           10.38s\n",
      "         8           1.3461            6.95s\n",
      "         9           1.3419            3.47s\n",
      "        10           1.3381            0.00s\n",
      "      Iter       Train Loss   Remaining Time \n",
      "         1           1.3781           35.38s\n",
      "         2           1.3725           29.76s\n",
      "         3           1.3673           26.40s\n",
      "         4           1.3629           22.57s\n",
      "         5           1.3581           18.71s\n",
      "         6           1.3534           14.87s\n",
      "         7           1.3487           11.60s\n",
      "         8           1.3445            7.71s\n",
      "         9           1.3408            3.83s\n",
      "        10           1.3368            0.00s\n",
      "      Iter       Train Loss   Remaining Time \n",
      "         1           1.3787           31.78s\n",
      "         2           1.3731           27.77s\n",
      "         3           1.3681           23.89s\n",
      "         4           1.3637           20.50s\n",
      "         5           1.3592           17.05s\n",
      "         6           1.3546           13.54s\n",
      "         7           1.3498           10.11s\n",
      "         8           1.3455            6.89s\n",
      "         9           1.3416            3.58s\n",
      "        10           1.3377            0.00s\n",
      "      Iter       Train Loss   Remaining Time \n",
      "         1           1.3784           39.86s\n",
      "         2           1.3729           36.58s\n",
      "         3           1.3679           31.82s\n",
      "         4           1.3632           25.87s\n",
      "         5           1.3584           21.20s\n",
      "         6           1.3537           17.54s\n",
      "         7           1.3497           12.85s\n",
      "         8           1.3455            8.34s\n",
      "         9           1.3414            4.09s\n",
      "        10           1.3376            0.00s\n",
      "      Iter       Train Loss   Remaining Time \n",
      "         1           1.3787           35.98s\n",
      "         2           1.3732           30.38s\n",
      "         3           1.3682           25.85s\n",
      "         4           1.3637           21.84s\n",
      "         5           1.3589           17.86s\n",
      "         6           1.3548           14.89s\n",
      "         7           1.3502           11.45s\n",
      "         8           1.3459            7.67s\n",
      "         9           1.3420            3.79s\n",
      "        10           1.3382            0.00s\n",
      "      Iter       Train Loss   Remaining Time \n",
      "         1           1.3786            1.24m\n",
      "         2           1.3729            1.20m\n",
      "         3           1.3680            1.15m\n",
      "         4           1.3636            1.08m\n",
      "         5           1.3592           59.15s\n",
      "         6           1.3546           53.72s\n",
      "         7           1.3502           48.94s\n",
      "         8           1.3461           44.56s\n",
      "         9           1.3419           40.50s\n",
      "        10           1.3381           36.45s\n",
      "        20           1.3090            0.00s\n",
      "      Iter       Train Loss   Remaining Time \n",
      "         1           1.3781            1.14m\n",
      "         2           1.3725            1.10m\n",
      "         3           1.3673            1.02m\n",
      "         4           1.3629           58.29s\n",
      "         5           1.3581           53.58s\n",
      "         6           1.3534           49.46s\n",
      "         7           1.3487           45.59s\n",
      "         8           1.3445           41.83s\n",
      "         9           1.3408           38.37s\n",
      "        10           1.3368           34.77s\n",
      "        20           1.3067            0.00s\n",
      "      Iter       Train Loss   Remaining Time \n",
      "         1           1.3787            1.09m\n",
      "         2           1.3731            1.03m\n",
      "         3           1.3681           58.47s\n",
      "         4           1.3637           55.04s\n",
      "         5           1.3592           51.76s\n",
      "         6           1.3546           48.10s\n",
      "         7           1.3498           45.00s\n",
      "         8           1.3455           41.98s\n",
      "         9           1.3416           38.48s\n",
      "        10           1.3377           34.88s\n",
      "        20           1.3077            0.00s\n",
      "      Iter       Train Loss   Remaining Time \n",
      "         1           1.3784            1.16m\n",
      "         2           1.3729            1.12m\n",
      "         3           1.3679            1.07m\n",
      "         4           1.3632           59.20s\n",
      "         5           1.3584           54.95s\n",
      "         6           1.3537           50.66s\n",
      "         7           1.3497           47.01s\n",
      "         8           1.3455           42.99s\n",
      "         9           1.3414           39.65s\n",
      "        10           1.3376           36.33s\n",
      "        20           1.3078            0.00s\n",
      "      Iter       Train Loss   Remaining Time \n",
      "         1           1.3787            1.25m\n",
      "         2           1.3732            1.12m\n",
      "         3           1.3682            1.07m\n",
      "         4           1.3637           59.95s\n",
      "         5           1.3589           54.73s\n",
      "         6           1.3548           50.63s\n",
      "         7           1.3502           46.82s\n",
      "         8           1.3459           42.90s\n",
      "         9           1.3420           38.96s\n",
      "        10           1.3382           35.19s\n",
      "        20           1.3085            0.00s\n",
      "      Iter       Train Loss   Remaining Time \n",
      "         1           1.3786            1.86m\n",
      "         2           1.3729            1.69m\n",
      "         3           1.3680            1.59m\n",
      "         4           1.3636            1.52m\n",
      "         5           1.3592            1.46m\n",
      "         6           1.3546            1.41m\n",
      "         7           1.3502            1.34m\n",
      "         8           1.3461            1.27m\n",
      "         9           1.3419            1.21m\n",
      "        10           1.3381            1.14m\n",
      "        20           1.3090           34.01s\n",
      "        30           1.2890            0.00s\n",
      "      Iter       Train Loss   Remaining Time \n",
      "         1           1.3781            1.71m\n",
      "         2           1.3725            1.62m\n",
      "         3           1.3673            1.55m\n",
      "         4           1.3629            1.49m\n",
      "         5           1.3581            1.42m\n",
      "         6           1.3534            1.35m\n",
      "         7           1.3487            1.29m\n",
      "         8           1.3445            1.23m\n",
      "         9           1.3408            1.18m\n",
      "        10           1.3368            1.12m\n",
      "        20           1.3067           33.68s\n",
      "        30           1.2865            0.00s\n",
      "      Iter       Train Loss   Remaining Time \n",
      "         1           1.3787            1.66m\n",
      "         2           1.3731            1.64m\n",
      "         3           1.3681            1.58m\n",
      "         4           1.3637            1.51m\n",
      "         5           1.3592            1.45m\n",
      "         6           1.3546            1.38m\n",
      "         7           1.3498            1.32m\n",
      "         8           1.3455            1.26m\n",
      "         9           1.3416            1.19m\n",
      "        10           1.3377            1.15m\n",
      "        20           1.3077           33.61s\n",
      "        30           1.2876            0.00s\n",
      "      Iter       Train Loss   Remaining Time \n",
      "         1           1.3784            1.66m\n",
      "         2           1.3729            1.59m\n",
      "         3           1.3679            1.53m\n",
      "         4           1.3632            1.47m\n",
      "         5           1.3584            1.41m\n",
      "         6           1.3537            1.34m\n",
      "         7           1.3497            1.29m\n",
      "         8           1.3455            1.23m\n",
      "         9           1.3414            1.18m\n",
      "        10           1.3376            1.13m\n",
      "        20           1.3078           33.31s\n",
      "        30           1.2875            0.00s\n",
      "      Iter       Train Loss   Remaining Time \n",
      "         1           1.3787            1.69m\n",
      "         2           1.3732            1.61m\n",
      "         3           1.3682            1.54m\n",
      "         4           1.3637            1.48m\n",
      "         5           1.3589            1.41m\n",
      "         6           1.3548            1.36m\n",
      "         7           1.3502            1.30m\n",
      "         8           1.3459            1.23m\n",
      "         9           1.3420            1.17m\n",
      "        10           1.3382            1.12m\n",
      "        20           1.3085           33.49s\n",
      "        30           1.2888            0.00s\n"
     ]
    }
   ],
   "source": [
    "i = 10\n",
    "CVS = []\n",
    "time = []\n",
    "while i <= 30:\n",
    "    start_time = datetime.datetime.now()\n",
    "\n",
    "    clf = GradientBoostingClassifier(n_estimators=i, verbose=True, random_state=241, max_depth=3)\n",
    "    \n",
    "    CVS.append(np.mean(cross_val_score(estimator=clf, X=features, y=y, cv=cv, scoring='roc_auc')))\n",
    "    time.append(datetime.datetime.now() - start_time)\n",
    "    i += 10"
   ]
  },
  {
   "cell_type": "code",
   "execution_count": 13,
   "metadata": {
    "collapsed": false
   },
   "outputs": [
    {
     "name": "stdout",
     "output_type": "stream",
     "text": [
      "CrossValidation\n",
      "0.664387720635\n",
      "Time elapsed:\n",
      "0:03:26.922835\n",
      "CrossValidation\n",
      "0.682853573534\n",
      "Time elapsed:\n",
      "0:06:14.154401\n",
      "CrossValidation\n",
      "0.689496206059\n",
      "Time elapsed:\n",
      "0:08:42.782901\n"
     ]
    }
   ],
   "source": [
    "for i in range(3):\n",
    "    print('CrossValidation')\n",
    "    print(CVS[i])\n",
    "    print('Time elapsed:')\n",
    "    print(time[i])"
   ]
  },
  {
   "cell_type": "code",
   "execution_count": 14,
   "metadata": {
    "collapsed": true
   },
   "outputs": [],
   "source": [
    "#При использовании 30 деревьев полученная точность 0.689496206059\n",
    "# затраченное время 0:08:42.782901"
   ]
  },
  {
   "cell_type": "code",
   "execution_count": 15,
   "metadata": {
    "collapsed": false
   },
   "outputs": [
    {
     "name": "stdout",
     "output_type": "stream",
     "text": [
      "      Iter       Train Loss   Remaining Time \n",
      "         1           1.3786            2.44m\n",
      "         2           1.3732            2.28m\n",
      "         3           1.3681            2.15m\n",
      "         4           1.3636            2.05m\n",
      "         5           1.3589            1.96m\n",
      "         6           1.3547            1.88m\n",
      "         7           1.3502            1.79m\n",
      "         8           1.3461            1.70m\n",
      "         9           1.3422            1.61m\n",
      "        10           1.3385            1.53m\n",
      "        20           1.3092           45.78s\n",
      "        30           1.2892            0.00s\n"
     ]
    },
    {
     "data": {
      "text/plain": [
       "GradientBoostingClassifier(criterion='friedman_mse', init=None,\n",
       "              learning_rate=0.1, loss='deviance', max_depth=3,\n",
       "              max_features=None, max_leaf_nodes=None,\n",
       "              min_impurity_split=1e-07, min_samples_leaf=1,\n",
       "              min_samples_split=2, min_weight_fraction_leaf=0.0,\n",
       "              n_estimators=30, presort='auto', random_state=241,\n",
       "              subsample=1.0, verbose=True, warm_start=False)"
      ]
     },
     "execution_count": 15,
     "metadata": {},
     "output_type": "execute_result"
    }
   ],
   "source": [
    "clf.fit(features, y)"
   ]
  },
  {
   "cell_type": "code",
   "execution_count": 16,
   "metadata": {
    "collapsed": false
   },
   "outputs": [],
   "source": [
    "pred = clf.predict_proba(features)[:, 1]"
   ]
  },
  {
   "cell_type": "code",
   "execution_count": 17,
   "metadata": {
    "collapsed": false
   },
   "outputs": [
    {
     "name": "stdout",
     "output_type": "stream",
     "text": [
      "0.70020888039\n"
     ]
    }
   ],
   "source": [
    "print(roc_auc_score(y,pred))"
   ]
  },
  {
   "cell_type": "code",
   "execution_count": 18,
   "metadata": {
    "collapsed": false
   },
   "outputs": [
    {
     "name": "stdout",
     "output_type": "stream",
     "text": [
      "      Iter       Train Loss   Remaining Time \n",
      "         1           1.3786            3.43m\n",
      "         2           1.3729            2.98m\n",
      "         3           1.3680            2.69m\n",
      "         4           1.3636            2.56m\n",
      "         5           1.3592            2.41m\n",
      "         6           1.3546            2.27m\n",
      "         7           1.3502            2.15m\n",
      "         8           1.3461            2.05m\n",
      "         9           1.3419            1.96m\n",
      "        10           1.3381            1.88m\n",
      "        20           1.3090            1.19m\n",
      "        30           1.2890           35.14s\n",
      "        40           1.2745            0.00s\n",
      "      Iter       Train Loss   Remaining Time \n",
      "         1           1.3781            2.29m\n",
      "         2           1.3725            2.23m\n",
      "         3           1.3673            2.16m\n",
      "         4           1.3629            2.10m\n",
      "         5           1.3581            2.02m\n",
      "         6           1.3534            1.95m\n",
      "         7           1.3487            1.90m\n",
      "         8           1.3445            1.85m\n",
      "         9           1.3408            1.80m\n",
      "        10           1.3368            1.74m\n",
      "        20           1.3067            1.16m\n",
      "        30           1.2865           34.51s\n",
      "        40           1.2721            0.00s\n",
      "      Iter       Train Loss   Remaining Time \n",
      "         1           1.3787            2.51m\n",
      "         2           1.3731            2.37m\n",
      "         3           1.3681            2.28m\n",
      "         4           1.3637            2.21m\n",
      "         5           1.3592            2.16m\n",
      "         6           1.3546            2.07m\n",
      "         7           1.3498            1.99m\n",
      "         8           1.3455            1.91m\n",
      "         9           1.3416            1.84m\n",
      "        10           1.3377            1.77m\n",
      "        20           1.3077            1.15m\n",
      "        30           1.2876           34.01s\n",
      "        40           1.2729            0.00s\n",
      "      Iter       Train Loss   Remaining Time \n",
      "         1           1.3784            2.29m\n",
      "         2           1.3729            2.22m\n",
      "         3           1.3679            2.16m\n",
      "         4           1.3632            2.10m\n",
      "         5           1.3584            2.02m\n",
      "         6           1.3537            1.97m\n",
      "         7           1.3497            1.94m\n",
      "         8           1.3455            1.88m\n",
      "         9           1.3414            1.82m\n",
      "        10           1.3376            1.75m\n",
      "        20           1.3078            1.30m\n",
      "        30           1.2875           37.41s\n",
      "        40           1.2727            0.00s\n",
      "      Iter       Train Loss   Remaining Time \n",
      "         1           1.3787            2.31m\n",
      "         2           1.3732            2.23m\n",
      "         3           1.3682            2.16m\n",
      "         4           1.3637            2.09m\n",
      "         5           1.3589            2.02m\n",
      "         6           1.3548            1.99m\n",
      "         7           1.3502            1.93m\n",
      "         8           1.3459            1.89m\n",
      "         9           1.3420            1.82m\n",
      "        10           1.3382            1.75m\n",
      "        20           1.3085            1.15m\n",
      "        30           1.2888           34.24s\n",
      "        40           1.2738            0.00s\n",
      "0.694131121473\n"
     ]
    }
   ],
   "source": [
    "clf = GradientBoostingClassifier(n_estimators=40, verbose=True, random_state=241, max_depth=3)\n",
    "    \n",
    "CV = (np.mean(cross_val_score(estimator=clf, X=features, y=y, cv=cv, scoring='roc_auc')))\n",
    "print(CV)"
   ]
  },
  {
   "cell_type": "code",
   "execution_count": 19,
   "metadata": {
    "collapsed": true
   },
   "outputs": [],
   "source": [
    "#Можно заметить улучшение точности при использовании деревьев более 30 (в примере используется 40)\n",
    "# точность равна 0.694131121473"
   ]
  },
  {
   "cell_type": "code",
   "execution_count": 20,
   "metadata": {
    "collapsed": true
   },
   "outputs": [],
   "source": [
    "\n",
    "\n",
    "#Логистическая регрессия\n",
    "\n",
    "\n"
   ]
  },
  {
   "cell_type": "code",
   "execution_count": 21,
   "metadata": {
    "collapsed": false
   },
   "outputs": [],
   "source": [
    "from sklearn.preprocessing import StandardScaler\n",
    "from sklearn.linear_model import LogisticRegression\n",
    "from sklearn.preprocessing import scale\n",
    "import warnings\n",
    "warnings.simplefilter('ignore')"
   ]
  },
  {
   "cell_type": "code",
   "execution_count": 22,
   "metadata": {
    "collapsed": true
   },
   "outputs": [],
   "source": [
    "kf = KFold(5, shuffle=True, random_state=42)"
   ]
  },
  {
   "cell_type": "code",
   "execution_count": 23,
   "metadata": {
    "collapsed": true
   },
   "outputs": [],
   "source": [
    "scale = StandardScaler()\n",
    "Xscl=scale.fit_transform(features) #Масштабируем"
   ]
  },
  {
   "cell_type": "code",
   "execution_count": 25,
   "metadata": {
    "collapsed": false
   },
   "outputs": [],
   "source": [
    "CVL = []\n",
    "time_LR = []\n",
    "for i in range(10):\n",
    "    start_time = datetime.datetime.now()\n",
    "\n",
    "    k = 10**(i-5)\n",
    "    LR = LogisticRegression(C=k)\n",
    "    CVL.append(np.mean(cross_val_score(estimator=LR, X=Xscl, y=y, cv=kf, scoring='roc_auc')))\n",
    "    \n",
    "    time_LR.append(datetime.datetime.now() - start_time)"
   ]
  },
  {
   "cell_type": "code",
   "execution_count": 26,
   "metadata": {
    "collapsed": false
   },
   "outputs": [
    {
     "name": "stdout",
     "output_type": "stream",
     "text": [
      "Score\n",
      "0.716550269726\n",
      "C\n",
      "0.01\n",
      "time\n",
      "0:01:00.981488\n"
     ]
    }
   ],
   "source": [
    "C = 10**(CVL.index(max(CVL))-5)\n",
    "T = time_LR[CVL.index(max(CVL))]\n",
    "print('Score')\n",
    "print(max(CVL))\n",
    "print('C')\n",
    "print(C)\n",
    "print('time')\n",
    "print(T)"
   ]
  },
  {
   "cell_type": "code",
   "execution_count": 27,
   "metadata": {
    "collapsed": true
   },
   "outputs": [],
   "source": [
    "#Качество оценки немного лучше,чем у градиентного бустинга время затрачено меньше. \n",
    "#Лучший парметр регуляризации С=0.01"
   ]
  },
  {
   "cell_type": "code",
   "execution_count": 28,
   "metadata": {
    "collapsed": false
   },
   "outputs": [
    {
     "data": {
      "text/plain": [
       "array([  1,   2,   3,   4,   5,   6,   7,   8,   9,  10,  11,  12,  13,\n",
       "        14,  15,  16,  17,  18,  19,  20,  21,  22,  23,  25,  26,  27,\n",
       "        28,  29,  30,  31,  32,  33,  34,  35,  36,  37,  38,  39,  40,\n",
       "        41,  42,  43,  44,  45,  46,  47,  48,  49,  50,  51,  52,  53,\n",
       "        54,  55,  56,  57,  58,  59,  60,  61,  62,  63,  64,  65,  66,\n",
       "        67,  68,  69,  70,  71,  72,  73,  74,  75,  76,  77,  78,  79,\n",
       "        80,  81,  82,  83,  84,  85,  86,  87,  88,  89,  90,  91,  92,\n",
       "        93,  94,  95,  96,  97,  98,  99, 100, 101, 102, 103, 104, 105,\n",
       "       106, 109, 110, 112], dtype=int64)"
      ]
     },
     "execution_count": 28,
     "metadata": {},
     "output_type": "execute_result"
    }
   ],
   "source": [
    "#Запись столбцов для расчета количества героев\n",
    "X = features[ ['r1_hero', 'r2_hero','r3_hero','r4_hero','r5_hero', 'd1_hero', 'd2_hero', 'd3_hero', 'd4_hero', 'd5_hero'] ].as_matrix()\n",
    "X_hero = np.unique(X)\n",
    "X_hero"
   ]
  },
  {
   "cell_type": "code",
   "execution_count": 29,
   "metadata": {
    "collapsed": true
   },
   "outputs": [],
   "source": [
    "# всего 113 героев, но не выбирают  героев 24, 107, 108, 111, 113 либо их просто нет \n",
    "# уникальных получается 108, а идентификатор заканчивается на 112"
   ]
  },
  {
   "cell_type": "code",
   "execution_count": 30,
   "metadata": {
    "collapsed": false
   },
   "outputs": [],
   "source": [
    "#Создание мешка\n",
    "X_pick = np.zeros((features.shape[0], 112))\n",
    "\n",
    "for i, match_id in enumerate(features.index):\n",
    "    for p in list(range(5)):\n",
    "        X_pick[i, features.ix[match_id, 'r%d_hero' % (p+1)]-1] = 1\n",
    "        X_pick[i, features.ix[match_id, 'd%d_hero' % (p+1)]-1] = -1"
   ]
  },
  {
   "cell_type": "code",
   "execution_count": 31,
   "metadata": {
    "collapsed": false
   },
   "outputs": [],
   "source": [
    "#Удаление категориальных признаков\n",
    "del features['lobby_type']\n",
    "del features['r1_hero']\n",
    "del features['r2_hero']\n",
    "del features['r3_hero']\n",
    "del features['r4_hero']\n",
    "del features['r5_hero']\n",
    "del features['d1_hero']\n",
    "del features['d2_hero']\n",
    "del features['d3_hero']\n",
    "del features['d4_hero']\n",
    "del features['d5_hero']"
   ]
  },
  {
   "cell_type": "code",
   "execution_count": 32,
   "metadata": {
    "collapsed": true
   },
   "outputs": [],
   "source": [
    "Xscl_n = scale.fit_transform(features) #Масштабируем"
   ]
  },
  {
   "cell_type": "code",
   "execution_count": 34,
   "metadata": {
    "collapsed": false
   },
   "outputs": [],
   "source": [
    "#Расчет после удаления категориальных признаков\n",
    "CVL_n = []\n",
    "time_LR_n = []\n",
    "for i in range(10):\n",
    "    start_time = datetime.datetime.now()\n",
    "\n",
    "    k = 10**(i-5)\n",
    "    LR = LogisticRegression(C=k)\n",
    "    CVL_n.append(np.mean(cross_val_score(estimator=LR, X=Xscl_n, y=y, cv=kf, scoring='roc_auc')))\n",
    "    \n",
    "    time_LR_n.append(datetime.datetime.now() - start_time)"
   ]
  },
  {
   "cell_type": "code",
   "execution_count": 35,
   "metadata": {
    "collapsed": false
   },
   "outputs": [
    {
     "name": "stdout",
     "output_type": "stream",
     "text": [
      "Score\n",
      "0.716559388563\n",
      "C\n",
      "0.01\n",
      "time\n",
      "0:00:49.962857\n"
     ]
    }
   ],
   "source": [
    "C = 10**(CVL_n.index(max(CVL_n))-5)\n",
    "T = time_LR_n[CVL_n.index(max(CVL_n))]\n",
    "print('Score')\n",
    "print(max(CVL_n))\n",
    "print('C')\n",
    "print(C)\n",
    "print('time')\n",
    "print(T)"
   ]
  },
  {
   "cell_type": "code",
   "execution_count": 36,
   "metadata": {
    "collapsed": true
   },
   "outputs": [],
   "source": [
    "# Качество практически не изменилось, так как признаки были не сравнимы в том виде в котором они есть"
   ]
  },
  {
   "cell_type": "code",
   "execution_count": 37,
   "metadata": {
    "collapsed": true
   },
   "outputs": [],
   "source": [
    "#Добавление полученных признаков к числовым\n",
    "data = np.concatenate([Xscl_n, X_pick], axis=1)"
   ]
  },
  {
   "cell_type": "code",
   "execution_count": 38,
   "metadata": {
    "collapsed": false
   },
   "outputs": [],
   "source": [
    "#Расчет после добавления\n",
    "CVL_f = []\n",
    "time_LR_f = []\n",
    "for i in range(10):\n",
    "    start_time = datetime.datetime.now()\n",
    "\n",
    "    k = 10**(i-5)\n",
    "    LR = LogisticRegression(C=k)\n",
    "    CVL_f.append(np.mean(cross_val_score(estimator=LR, X=data, y=y, cv=kf, scoring='roc_auc')))\n",
    "    \n",
    "    time_LR_f.append(datetime.datetime.now() - start_time)"
   ]
  },
  {
   "cell_type": "code",
   "execution_count": 39,
   "metadata": {
    "collapsed": false
   },
   "outputs": [
    {
     "name": "stdout",
     "output_type": "stream",
     "text": [
      "Score\n",
      "0.75194757692\n",
      "C\n",
      "0.1\n",
      "time\n",
      "0:01:51.542379\n"
     ]
    }
   ],
   "source": [
    "C = 10**(CVL_f.index(max(CVL_f))-5)\n",
    "T = time_LR_f[CVL_f.index(max(CVL_f))]\n",
    "print('Score')\n",
    "print(max(CVL_f))\n",
    "print('C')\n",
    "print(C)\n",
    "print('time')\n",
    "print(T)"
   ]
  },
  {
   "cell_type": "code",
   "execution_count": 40,
   "metadata": {
    "collapsed": true
   },
   "outputs": [],
   "source": [
    "#Качество оценки стало лучше, время затрачено больше. \n",
    "#Лучший парметр регуляризации С=0.1\n",
    "#Качество улучшилось за счет увеличения характеристик которые являются значимыми"
   ]
  },
  {
   "cell_type": "code",
   "execution_count": 41,
   "metadata": {
    "collapsed": false
   },
   "outputs": [
    {
     "data": {
      "text/plain": [
       "LogisticRegression(C=0.1, class_weight=None, dual=False, fit_intercept=True,\n",
       "          intercept_scaling=1, max_iter=100, multi_class='ovr', n_jobs=1,\n",
       "          penalty='l2', random_state=None, solver='liblinear', tol=0.0001,\n",
       "          verbose=0, warm_start=False)"
      ]
     },
     "execution_count": 41,
     "metadata": {},
     "output_type": "execute_result"
    }
   ],
   "source": [
    "LR = LogisticRegression(C=0.1)\n",
    "LR.fit(data, y)"
   ]
  },
  {
   "cell_type": "code",
   "execution_count": 42,
   "metadata": {
    "collapsed": true
   },
   "outputs": [],
   "source": [
    "features_test = features_test.fillna(0)"
   ]
  },
  {
   "cell_type": "code",
   "execution_count": 43,
   "metadata": {
    "collapsed": false
   },
   "outputs": [],
   "source": [
    "#Создание мешка для тестовой выборки\n",
    "X_pick_test = np.zeros((features_test.shape[0], 112))\n",
    "\n",
    "for i, match_id in enumerate(features_test.index):\n",
    "    for p in list(range(5)):\n",
    "        X_pick_test[i, features_test.ix[match_id, 'r%d_hero' % (p+1)]-1] = 1\n",
    "        X_pick_test[i, features_test.ix[match_id, 'd%d_hero' % (p+1)]-1] = -1\n"
   ]
  },
  {
   "cell_type": "code",
   "execution_count": 44,
   "metadata": {
    "collapsed": false
   },
   "outputs": [],
   "source": [
    "#Удаление категориальных признаков из тестовой выборки\n",
    "del features_test['lobby_type']\n",
    "del features_test['r1_hero']\n",
    "del features_test['r2_hero']\n",
    "del features_test['r3_hero']\n",
    "del features_test['r4_hero']\n",
    "del features_test['r5_hero']\n",
    "del features_test['d1_hero']\n",
    "del features_test['d2_hero']\n",
    "del features_test['d3_hero']\n",
    "del features_test['d4_hero']\n",
    "del features_test['d5_hero']"
   ]
  },
  {
   "cell_type": "code",
   "execution_count": 45,
   "metadata": {
    "collapsed": false
   },
   "outputs": [],
   "source": [
    "Xscl_test = scale.fit_transform(features_test) #Масштабируем тестовую выборку"
   ]
  },
  {
   "cell_type": "code",
   "execution_count": 46,
   "metadata": {
    "collapsed": true
   },
   "outputs": [],
   "source": [
    "#Объединение\n",
    "data_test = np.concatenate([Xscl_test, X_pick_test], axis=1)"
   ]
  },
  {
   "cell_type": "code",
   "execution_count": 47,
   "metadata": {
    "collapsed": false
   },
   "outputs": [],
   "source": [
    "prediction = LR.predict_proba(data_test)[:, 1]"
   ]
  },
  {
   "cell_type": "code",
   "execution_count": 48,
   "metadata": {
    "collapsed": false
   },
   "outputs": [
    {
     "data": {
      "text/plain": [
       "0.99645865693077917"
      ]
     },
     "execution_count": 48,
     "metadata": {},
     "output_type": "execute_result"
    }
   ],
   "source": [
    "#Максимальное значение прогноза\n",
    "max(prediction)"
   ]
  },
  {
   "cell_type": "code",
   "execution_count": 49,
   "metadata": {
    "collapsed": false
   },
   "outputs": [
    {
     "data": {
      "text/plain": [
       "0.0085807263678184722"
      ]
     },
     "execution_count": 49,
     "metadata": {},
     "output_type": "execute_result"
    }
   ],
   "source": [
    "#Минимальное значение прогноза\n",
    "min(prediction)"
   ]
  },
  {
   "cell_type": "code",
   "execution_count": null,
   "metadata": {
    "collapsed": true
   },
   "outputs": [],
   "source": []
  }
 ],
 "metadata": {
  "kernelspec": {
   "display_name": "Python 3",
   "language": "python",
   "name": "python3"
  },
  "language_info": {
   "codemirror_mode": {
    "name": "ipython",
    "version": 3
   },
   "file_extension": ".py",
   "mimetype": "text/x-python",
   "name": "python",
   "nbconvert_exporter": "python",
   "pygments_lexer": "ipython3",
   "version": "3.6.0"
  }
 },
 "nbformat": 4,
 "nbformat_minor": 2
}
