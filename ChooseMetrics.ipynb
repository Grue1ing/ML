{
 "cells": [
  {
   "cell_type": "code",
   "execution_count": 1,
   "metadata": {
    "collapsed": false
   },
   "outputs": [],
   "source": [
    "import pandas as pd\n",
    "import numpy as np\n",
    "from sklearn.neighbors import KNeighborsRegressor\n",
    "import sklearn.datasets\n",
    "from sklearn.preprocessing import scale\n",
    "from sklearn.model_selection import KFold\n",
    "from sklearn.model_selection import cross_val_score"
   ]
  },
  {
   "cell_type": "code",
   "execution_count": 2,
   "metadata": {
    "collapsed": false
   },
   "outputs": [],
   "source": [
    "boston = sklearn.datasets.load_boston()"
   ]
  },
  {
   "cell_type": "code",
   "execution_count": 3,
   "metadata": {
    "collapsed": true
   },
   "outputs": [],
   "source": [
    "boston.data = scale(boston.data)"
   ]
  },
  {
   "cell_type": "code",
   "execution_count": 4,
   "metadata": {
    "collapsed": false
   },
   "outputs": [],
   "source": [
    "kf = KFold(5, shuffle=True, random_state=42)"
   ]
  },
  {
   "cell_type": "code",
   "execution_count": 5,
   "metadata": {
    "collapsed": false
   },
   "outputs": [],
   "source": [
    "acc=np.zeros(200)\n",
    "p=np.linspace(1, 10, 200)"
   ]
  },
  {
   "cell_type": "code",
   "execution_count": 7,
   "metadata": {
    "collapsed": false
   },
   "outputs": [],
   "source": [
    "for i in range(200):\n",
    "    kNN = KNeighborsRegressor(5, weights='distance', metric='minkowski', p=p[i])\n",
    "    acc[i] = np.mean(cross_val_score(estimator=kNN, X=boston.data, y=boston.target, cv=kf, scoring='neg_mean_squared_error'))"
   ]
  },
  {
   "cell_type": "code",
   "execution_count": 8,
   "metadata": {
    "collapsed": false
   },
   "outputs": [
    {
     "name": "stdout",
     "output_type": "stream",
     "text": [
      "[-16.05020851 -16.4040806  -16.36722922 -16.44253879 -16.45528062\n",
      " -16.50656321 -16.61675234 -16.80191199 -16.84395738 -17.09461063\n",
      " -17.12001511 -16.95135008 -17.08892668 -16.79108043 -16.9708836\n",
      " -17.00616396 -17.1542553  -17.17159467 -17.20017317 -17.31940422\n",
      " -17.41089028 -17.38259658 -17.32353846 -17.36459593 -17.39015982\n",
      " -17.66351099 -17.57487984 -17.32764549 -17.51564189 -17.56542921\n",
      " -17.57618911 -17.62067113 -17.62380094 -17.30688462 -17.35131032\n",
      " -17.51010409 -17.49513082 -17.49926817 -17.56311978 -17.55961048\n",
      " -17.64598699 -17.64093122 -17.68255957 -17.92162259 -17.98374072\n",
      " -18.13438589 -18.18168722 -18.25474444 -18.31206981 -18.31859683\n",
      " -18.31504274 -18.2455166  -18.5459889  -18.50225113 -18.60625751\n",
      " -18.60123901 -18.88762262 -18.92515538 -18.95120807 -18.97475071\n",
      " -18.94827622 -18.95003097 -19.05530949 -19.10203457 -19.09035679\n",
      " -19.11870857 -19.20576886 -19.21419409 -19.17123933 -19.13962691\n",
      " -19.16507606 -19.11329446 -19.33012816 -19.34003163 -19.33948142\n",
      " -19.34665441 -19.25215673 -19.23944348 -19.29085528 -19.43216683\n",
      " -19.49310844 -19.48573033 -19.60189098 -19.6973375  -19.70861453\n",
      " -19.74930128 -19.74280951 -19.74615561 -19.77740952 -19.69458875\n",
      " -19.70414031 -19.66268674 -19.68946387 -19.67885155 -19.70686589\n",
      " -19.67936583 -19.6839333  -19.71183668 -19.71492413 -19.75200292\n",
      " -19.91445198 -19.89261043 -19.90844315 -19.93573111 -19.93977652\n",
      " -19.93187093 -20.1419641  -20.32260131 -20.32654557 -20.20436941\n",
      " -20.15321847 -20.15657238 -20.14844027 -20.09919021 -20.07412593\n",
      " -20.0767752  -20.07623351 -20.08192848 -20.56981637 -20.58363466\n",
      " -20.58406559 -20.63254912 -20.61262478 -20.62329836 -20.60921964\n",
      " -20.60539621 -20.60595126 -20.62125365 -20.61773618 -20.61537018\n",
      " -20.61800621 -20.62246425 -20.66515932 -20.68436554 -20.6849899\n",
      " -20.68720772 -20.67534803 -20.67748414 -20.8766214  -20.97604789\n",
      " -20.991063   -20.99292767 -21.00681488 -21.00861609 -21.01038744\n",
      " -21.01212954 -21.01470316 -21.0081407  -21.02696931 -21.01967902\n",
      " -21.02127628 -21.05509149 -21.06287119 -21.06420494 -21.06569362\n",
      " -21.0646078  -21.0674519  -21.0227755  -20.94828193 -20.94963961\n",
      " -20.88988812 -20.89121516 -21.00486499 -21.0061578  -21.009287\n",
      " -21.01422228 -21.01209206 -21.01330969 -21.00949084 -21.01012225\n",
      " -21.01333477 -21.00318118 -21.00285267 -21.00369197 -21.00062601\n",
      " -21.00364343 -21.00472884 -21.01456136 -21.02451541 -21.0733464\n",
      " -21.0739055  -21.07495072 -21.07546483 -21.07648089 -21.10139415\n",
      " -21.10225287 -21.10697438 -21.10792637 -21.10924301 -21.06254455\n",
      " -21.06347066 -21.07176784 -21.05733138 -21.05822212 -21.05910072\n",
      " -21.06286348 -21.06372333 -21.06457161 -21.06540849 -21.08661734]\n"
     ]
    }
   ],
   "source": [
    "print(acc)"
   ]
  },
  {
   "cell_type": "code",
   "execution_count": 9,
   "metadata": {
    "collapsed": false
   },
   "outputs": [
    {
     "name": "stdout",
     "output_type": "stream",
     "text": [
      "number of metricks p:  1.0\n",
      "maximal element:  -16.0502085084\n"
     ]
    }
   ],
   "source": [
    "m=max(acc)\n",
    "for i in range(200):\n",
    "    if acc[i]==m:\n",
    "        print(\"number of metricks p: \", p[i])\n",
    "        print(\"maximal element: \", acc[i])"
   ]
  }
 ],
 "metadata": {
  "kernelspec": {
   "display_name": "Python 3",
   "language": "python",
   "name": "python3"
  },
  "language_info": {
   "codemirror_mode": {
    "name": "ipython",
    "version": 3
   },
   "file_extension": ".py",
   "mimetype": "text/x-python",
   "name": "python",
   "nbconvert_exporter": "python",
   "pygments_lexer": "ipython3",
   "version": "3.6.0"
  }
 },
 "nbformat": 4,
 "nbformat_minor": 2
}
