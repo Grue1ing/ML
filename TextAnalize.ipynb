{
 "cells": [
  {
   "cell_type": "code",
   "execution_count": 7,
   "metadata": {
    "collapsed": false
   },
   "outputs": [],
   "source": [
    "import numpy as np\n",
    "import pandas as pd\n",
    "from sklearn.svm import SVC\n",
    "from sklearn.model_selection import KFold\n",
    "from sklearn import datasets\n",
    "from sklearn.feature_extraction.text import TfidfVectorizer\n",
    "from sklearn.model_selection import GridSearchCV\n",
    "import warnings\n",
    "warnings.simplefilter('ignore')"
   ]
  },
  {
   "cell_type": "code",
   "execution_count": 2,
   "metadata": {
    "collapsed": false
   },
   "outputs": [],
   "source": [
    "newsgroups = datasets.fetch_20newsgroups(\n",
    "                    subset='all', \n",
    "                    categories=['alt.atheism', 'sci.space']\n",
    "             )"
   ]
  },
  {
   "cell_type": "code",
   "execution_count": 3,
   "metadata": {
    "collapsed": false
   },
   "outputs": [
    {
     "name": "stdout",
     "output_type": "stream",
     "text": [
      "  (0, 12328)\t0.0137045393774\n",
      "  (0, 3083)\t0.183545829049\n",
      "  (0, 16212)\t0.130870716213\n",
      "  (0, 26748)\t0.358641401851\n",
      "  (0, 10446)\t0.0877895428146\n",
      "  (0, 5173)\t0.147007441189\n",
      "  (0, 25602)\t0.113127021266\n",
      "  (0, 9436)\t0.160322175265\n",
      "  (0, 6206)\t0.183545829049\n",
      "  (0, 24745)\t0.0137045393774\n",
      "  (0, 21441)\t0.0319711500148\n",
      "  (0, 15606)\t0.179738178431\n",
      "  (0, 22911)\t0.105890061373\n",
      "  (0, 24461)\t0.0896603504628\n",
      "  (0, 20381)\t0.065773758988\n",
      "  (0, 19110)\t0.0143081539732\n",
      "  (0, 8823)\t0.0896603504628\n",
      "  (0, 9768)\t0.0973296270647\n",
      "  (0, 16346)\t0.0137275657721\n",
      "  (0, 1668)\t0.0532164165719\n",
      "  (0, 14361)\t0.0444677816001\n",
      "  (0, 4890)\t0.0212421598026\n",
      "  (0, 1191)\t0.106828889895\n",
      "  (0, 12512)\t0.0593325757435\n",
      "  (0, 6741)\t0.0958731456593\n",
      "  :\t:\n",
      "  (1785, 8616)\t0.0961857077738\n",
      "  (1785, 11782)\t0.055635809034\n",
      "  (1785, 10058)\t0.0742115230561\n",
      "  (1785, 970)\t0.041884777141\n",
      "  (1785, 16405)\t0.0559553567536\n",
      "  (1785, 28298)\t0.0641466708717\n",
      "  (1785, 8301)\t0.0655664206707\n",
      "  (1785, 13477)\t0.0690845681599\n",
      "  (1785, 11783)\t0.0462980883169\n",
      "  (1785, 8620)\t0.111271618068\n",
      "  (1785, 4291)\t0.0510365396952\n",
      "  (1785, 8629)\t0.0742115230561\n",
      "  (1785, 16514)\t0.126996623802\n",
      "  (1785, 12602)\t0.28544325907\n",
      "  (1785, 18927)\t0.148423046112\n",
      "  (1785, 19343)\t0.0742115230561\n",
      "  (1785, 11465)\t0.0742115230561\n",
      "  (1785, 18099)\t0.0742115230561\n",
      "  (1785, 17085)\t0.222634569168\n",
      "  (1785, 6967)\t0.161118706891\n",
      "  (1785, 16314)\t0.0838225869731\n",
      "  (1785, 25655)\t0.0805593534453\n",
      "  (1785, 8638)\t0.176843712624\n",
      "  (1785, 12224)\t0.176843712624\n",
      "  (1785, 8639)\t0.088421856312\n"
     ]
    }
   ],
   "source": [
    "vectorizer = TfidfVectorizer()\n",
    "X = vectorizer.fit_transform(newsgroups.data)\n",
    "y = newsgroups.target\n",
    "feature_mapping = vectorizer.get_feature_names()\n",
    "print(X)"
   ]
  },
  {
   "cell_type": "code",
   "execution_count": 5,
   "metadata": {
    "collapsed": false
   },
   "outputs": [
    {
     "data": {
      "text/plain": [
       "GridSearchCV(cv=KFold(n_splits=5, random_state=241, shuffle=True),\n",
       "       error_score='raise',\n",
       "       estimator=SVC(C=1.0, cache_size=200, class_weight=None, coef0=0.0,\n",
       "  decision_function_shape=None, degree=3, gamma='auto', kernel='linear',\n",
       "  max_iter=-1, probability=False, random_state=241, shrinking=True,\n",
       "  tol=0.001, verbose=False),\n",
       "       fit_params={}, iid=True, n_jobs=1,\n",
       "       param_grid={'C': array([  1.00000e-05,   1.00000e-04,   1.00000e-03,   1.00000e-02,\n",
       "         1.00000e-01,   1.00000e+00,   1.00000e+01,   1.00000e+02,\n",
       "         1.00000e+03,   1.00000e+04,   1.00000e+05])},\n",
       "       pre_dispatch='2*n_jobs', refit=True, return_train_score=True,\n",
       "       scoring='accuracy', verbose=0)"
      ]
     },
     "execution_count": 5,
     "metadata": {},
     "output_type": "execute_result"
    }
   ],
   "source": [
    "grid = {'C': np.power(10.0, np.arange(-5, 6))}\n",
    "cv = KFold(n_splits=5, shuffle=True, random_state=241)\n",
    "clf = SVC(kernel='linear', random_state=241)\n",
    "gs = GridSearchCV(clf, grid, scoring='accuracy', cv=cv)\n",
    "gs.fit(X, y)"
   ]
  },
  {
   "cell_type": "code",
   "execution_count": 8,
   "metadata": {
    "collapsed": false
   },
   "outputs": [
    {
     "name": "stdout",
     "output_type": "stream",
     "text": [
      "0.552631578947\n",
      "{'C': 1.0000000000000001e-05}\n",
      "0.552631578947\n",
      "{'C': 0.0001}\n",
      "0.552631578947\n",
      "{'C': 0.001}\n",
      "0.552631578947\n",
      "{'C': 0.01}\n",
      "0.950167973124\n",
      "{'C': 0.10000000000000001}\n",
      "0.993281075028\n",
      "{'C': 1.0}\n",
      "0.993281075028\n",
      "{'C': 10.0}\n",
      "0.993281075028\n",
      "{'C': 100.0}\n",
      "0.993281075028\n",
      "{'C': 1000.0}\n",
      "0.993281075028\n",
      "{'C': 10000.0}\n",
      "0.993281075028\n",
      "{'C': 100000.0}\n"
     ]
    }
   ],
   "source": [
    "for a in gs.grid_scores_:\n",
    "    print(a.mean_validation_score)\n",
    "    print(a.parameters)"
   ]
  },
  {
   "cell_type": "code",
   "execution_count": 9,
   "metadata": {
    "collapsed": false
   },
   "outputs": [
    {
     "data": {
      "text/plain": [
       "SVC(C=1, cache_size=200, class_weight=None, coef0=0.0,\n",
       "  decision_function_shape=None, degree=3, gamma='auto', kernel='linear',\n",
       "  max_iter=-1, probability=False, random_state=241, shrinking=True,\n",
       "  tol=0.001, verbose=False)"
      ]
     },
     "execution_count": 9,
     "metadata": {},
     "output_type": "execute_result"
    }
   ],
   "source": [
    "clf = SVC(C=1, kernel='linear', random_state=241)\n",
    "clf.fit(X, y)"
   ]
  },
  {
   "cell_type": "code",
   "execution_count": 10,
   "metadata": {
    "collapsed": false
   },
   "outputs": [
    {
     "name": "stdout",
     "output_type": "stream",
     "text": [
      "[22936 15606  5776 21850 23673 17802  5093  5088 12871 24019]\n"
     ]
    }
   ],
   "source": [
    "A = np.argsort(np.abs(np.asarray(clf.coef_.todense())).reshape(-1))[-10:]\n",
    "print(A)"
   ]
  },
  {
   "cell_type": "code",
   "execution_count": 11,
   "metadata": {
    "collapsed": false
   },
   "outputs": [
    {
     "name": "stdout",
     "output_type": "stream",
     "text": [
      "sci\n",
      "keith\n",
      "bible\n",
      "religion\n",
      "sky\n",
      "moon\n",
      "atheists\n",
      "atheism\n",
      "god\n",
      "space\n"
     ]
    }
   ],
   "source": [
    "B = []\n",
    "for i in range(10):\n",
    "    B.append(vectorizer.get_feature_names()[A[i]]) \n",
    "    print(B[i])"
   ]
  },
  {
   "cell_type": "code",
   "execution_count": 12,
   "metadata": {
    "collapsed": false
   },
   "outputs": [
    {
     "name": "stdout",
     "output_type": "stream",
     "text": [
      "['atheism', 'atheists', 'bible', 'god', 'keith', 'moon', 'religion', 'sci', 'sky', 'space']\n"
     ]
    }
   ],
   "source": [
    "B.sort()\n",
    "print(B)"
   ]
  }
 ],
 "metadata": {
  "kernelspec": {
   "display_name": "Python 3",
   "language": "python",
   "name": "python3"
  },
  "language_info": {
   "codemirror_mode": {
    "name": "ipython",
    "version": 3
   },
   "file_extension": ".py",
   "mimetype": "text/x-python",
   "name": "python",
   "nbconvert_exporter": "python",
   "pygments_lexer": "ipython3",
   "version": "3.6.0"
  }
 },
 "nbformat": 4,
 "nbformat_minor": 2
}
