{
 "cells": [
  {
   "cell_type": "code",
   "execution_count": 1,
   "metadata": {
    "collapsed": true
   },
   "outputs": [],
   "source": [
    "import pandas as pd\n",
    "import numpy as np\n",
    "import math\n",
    "from sklearn.metrics import roc_auc_score"
   ]
  },
  {
   "cell_type": "code",
   "execution_count": 2,
   "metadata": {
    "collapsed": false
   },
   "outputs": [],
   "source": [
    "Location = r'C:\\Users\\Grueling\\Downloads\\coursera\\data-logistic.csv'\n",
    "data = pd.read_csv(Location, header = None) "
   ]
  },
  {
   "cell_type": "code",
   "execution_count": 3,
   "metadata": {
    "collapsed": true
   },
   "outputs": [],
   "source": [
    "def WeightForGradiend (x1, x2, y, k, c, w1, w2):\n",
    "    \"\"\" Count two weight for gradient\n",
    "    x1 array of first feature\n",
    "    x2 array of second feature\n",
    "    y array of result\n",
    "    k length of step\n",
    "    C coeficient of regularization\n",
    "    w1 first weight\n",
    "    w2 first weight\n",
    "    \n",
    "    return vector with two weight variable\n",
    "    \n",
    "    function needs math library\n",
    "    \"\"\"\n",
    "    l = len(y)\n",
    "    sum_w1 = 0\n",
    "    sum_w2 = 0\n",
    "    for i in range(l):\n",
    "        coef = 1 - 1/(1 + math.exp(-y[i]*(w1*x1[i] + w2*x2[i])))\n",
    "        sum_w1 = sum_w1 + y[i]*x1[i]*coef\n",
    "        sum_w2 = sum_w2 + y[i]*x2[i]*coef\n",
    "    w_f = w1 + (k/l)*sum_w1 - k*c*w1\n",
    "    w_s = w2 + (k/l)*sum_w2 - k*c*w2\n",
    "    w = (w_f, w_s)\n",
    "    return w"
   ]
  },
  {
   "cell_type": "code",
   "execution_count": 4,
   "metadata": {
    "collapsed": false
   },
   "outputs": [
    {
     "data": {
      "text/plain": [
       "(0.03573126639874109, 0.03245997127838869)"
      ]
     },
     "execution_count": 4,
     "metadata": {},
     "output_type": "execute_result"
    }
   ],
   "source": [
    "eps = (1e-5, 1e-5)\n",
    "k = 0.1\n",
    "C = 10\n",
    "w = (0, 0)\n",
    "X1 = data[1]\n",
    "X2 = data[2]\n",
    "y = data[0]\n",
    "w1 = WeightForGradiend(y=y, x1=X1, x2=X2, k=0.1, c=0, w1=w[0], w2=w[1])\n",
    "comp = (math.fabs(w[0] - w1[0]), math.fabs(w[1] - w1[1]))\n",
    "comp"
   ]
  },
  {
   "cell_type": "code",
   "execution_count": 5,
   "metadata": {
    "collapsed": false
   },
   "outputs": [
    {
     "name": "stdout",
     "output_type": "stream",
     "text": [
      "230\n",
      "(0.28769331904259177, 0.092092701034746413)\n"
     ]
    }
   ],
   "source": [
    "i=1\n",
    "t = 0\n",
    "while comp > eps and i < 10000:\n",
    "    w = w1\n",
    "    w1 = WeightForGradiend(y=data[0], x1=data[1], x2=data[2], k=0.1, c=0, w1=w[0], w2=w[1])\n",
    "    comp = (math.fabs(w[0] - w1[0]), math.fabs(w[1] - w1[1]))\n",
    "    i = i + 1\n",
    "    t = t + 1\n",
    "print(t)\n",
    "print(w)"
   ]
  },
  {
   "cell_type": "code",
   "execution_count": 6,
   "metadata": {
    "collapsed": true
   },
   "outputs": [],
   "source": [
    "w1 = w[0]\n",
    "w2 = w[1]"
   ]
  },
  {
   "cell_type": "code",
   "execution_count": 7,
   "metadata": {
    "collapsed": false
   },
   "outputs": [
    {
     "name": "stdout",
     "output_type": "stream",
     "text": [
      "0.926857142857\n"
     ]
    }
   ],
   "source": [
    "print(roc_auc_score(y, [1/(1 + math.exp(-w1*X1[i] - w2*X2[i])) for i in range(len(y))]))"
   ]
  },
  {
   "cell_type": "code",
   "execution_count": 8,
   "metadata": {
    "collapsed": false
   },
   "outputs": [
    {
     "data": {
      "text/plain": [
       "(0.03573126639874109, 0.03245997127838869)"
      ]
     },
     "execution_count": 8,
     "metadata": {},
     "output_type": "execute_result"
    }
   ],
   "source": [
    "C = 10\n",
    "w = (0, 0)\n",
    "w1 = WeightForGradiend(y=y, x1=X1, x2=X2, k=0.1, c=C, w1=w[0], w2=w[1])\n",
    "comp = (math.fabs(w[0] - w1[0]), math.fabs(w[1] - w1[1]))\n",
    "comp"
   ]
  },
  {
   "cell_type": "code",
   "execution_count": 9,
   "metadata": {
    "collapsed": false
   },
   "outputs": [
    {
     "name": "stdout",
     "output_type": "stream",
     "text": [
      "237\n",
      "(0.028561965517012657, 0.024783655436404747)\n"
     ]
    }
   ],
   "source": [
    "i=1\n",
    "while math.fabs(comp > eps) and i < 10000:\n",
    "    w = w1\n",
    "    w1 = WeightForGradiend(y=data[0], x1=data[1], x2=data[2], k=0.1, c=C, w1=w[0], w2=w[1])\n",
    "    comp = (math.fabs(w[0] - w1[0]), math.fabs(w[1] - w1[1]))\n",
    "    i = i + 1\n",
    "    t = t + 1\n",
    "print(t)\n",
    "print(w)"
   ]
  },
  {
   "cell_type": "code",
   "execution_count": 10,
   "metadata": {
    "collapsed": true
   },
   "outputs": [],
   "source": [
    "w1 = w[0]\n",
    "w2 = w[1]"
   ]
  },
  {
   "cell_type": "code",
   "execution_count": 11,
   "metadata": {
    "collapsed": false
   },
   "outputs": [
    {
     "name": "stdout",
     "output_type": "stream",
     "text": [
      "0.936285714286\n"
     ]
    }
   ],
   "source": [
    "print(roc_auc_score(y, [1/(1 + math.exp(-w1*X1[i] - w2*X2[i])) for i in range(len(y))]))"
   ]
  }
 ],
 "metadata": {
  "kernelspec": {
   "display_name": "Python 3",
   "language": "python",
   "name": "python3"
  },
  "language_info": {
   "codemirror_mode": {
    "name": "ipython",
    "version": 3
   },
   "file_extension": ".py",
   "mimetype": "text/x-python",
   "name": "python",
   "nbconvert_exporter": "python",
   "pygments_lexer": "ipython3",
   "version": "3.6.0"
  }
 },
 "nbformat": 4,
 "nbformat_minor": 2
}
